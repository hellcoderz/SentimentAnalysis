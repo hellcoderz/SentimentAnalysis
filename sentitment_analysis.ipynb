{
 "cells": [
  {
   "cell_type": "markdown",
   "metadata": {
    "colab_type": "text",
    "id": "wRIMBN4Gsw77"
   },
   "source": [
    "# Project: Twitter Sentiment Analysis\n",
    "\n",
    "## Few Methods Tried For Sentitment Analysis\n",
    "### 1. Naive Bayes\n",
    "#### Pros\n",
    "- simple to train\n",
    "- fast\n",
    "- model size is small\n",
    "- can work on sparse data\n",
    "\n",
    "#### Cons\n",
    "- features are independant\n",
    "- word level probability distribution\n",
    "- does not work well on twitter data\n",
    "\n",
    "### 2. Doc2Vec + Multiclass Classification\n",
    "#### Pros\n",
    "- easy to train\n",
    "- Doc2Vec model can be trained fast\n",
    "- no need to train Doc2Vec model with every new data\n",
    "- training classification model is fast\n",
    "- method is split into 2 separate tasks and can be improved imdependantly\n",
    "- Huge amount of data not required\n",
    "\n",
    "#### Cons\n",
    "- need to train Doc2Vec if domain changes or lots of new vocabulary is changed\n",
    "- does not take dependencies into account\n",
    "- a single work cannot change the vector document vector so much\n",
    "- not best suited for Sentiment Analysis on short texts\n",
    "- classification model not too complex hence cannot figure out dependencies\n",
    "\n",
    "### 3. Language Models (Specefically ULMFiT) - Final Implemtation\n",
    "#### Pros\n",
    "- State of the Art Language  Model with Transfer Learning\n",
    "- Can use pre-trained LM and Fine-Tune to the domain data\n",
    "- Need only to Train Last few layers per domain\n",
    "- Classiffiers can be bolted on the model \n",
    "- needs very few samples to achieve accuracy comparable to other SoTA models\n",
    "\n",
    "#### Cons\n",
    "- slow to train\n",
    "- slow to predict single input\n",
    "- fine tuning is required of last few layers for the said task\n",
    "- lots of hyper-tuning options to try to get SoTA results\n",
    "\n"
   ]
  },
  {
   "cell_type": "code",
   "execution_count": null,
   "metadata": {
    "colab": {},
    "colab_type": "code",
    "id": "e_QmWIp7xD5J"
   },
   "outputs": [],
   "source": [
    "from fastai import *\n",
    "from fastai.text import *\n",
    "from fastai.core import *\n",
    "from fastai.vision import *\n",
    "import re"
   ]
  },
  {
   "cell_type": "code",
   "execution_count": null,
   "metadata": {
    "colab": {},
    "colab_type": "code",
    "id": "fHUbreZW_giI"
   },
   "outputs": [],
   "source": [
    "# downloading data\n",
    "# download model data from http://localhost:8888/?token=2fa1129210e128154cbaa61adc7d06d7d36257d9f74ac075\n",
    "!wget https://s3.amazonaws.com/vikrantinterviewdata/model_data.zip"
   ]
  },
  {
   "cell_type": "code",
   "execution_count": null,
   "metadata": {
    "colab": {},
    "colab_type": "code",
    "id": "PSas3DdYxR1O"
   },
   "outputs": [],
   "source": [
    "# point path to the folder of the extracted data\n",
    "path = Path(\".\")"
   ]
  },
  {
   "cell_type": "code",
   "execution_count": 3,
   "metadata": {
    "colab": {
     "base_uri": "https://localhost:8080/",
     "height": 206
    },
    "colab_type": "code",
    "id": "zBebRhAbyecF",
    "outputId": "4d9c51ba-53e8-476f-c164-639c82017001"
   },
   "outputs": [
    {
     "data": {
      "text/html": [
       "<div>\n",
       "<style scoped>\n",
       "    .dataframe tbody tr th:only-of-type {\n",
       "        vertical-align: middle;\n",
       "    }\n",
       "\n",
       "    .dataframe tbody tr th {\n",
       "        vertical-align: top;\n",
       "    }\n",
       "\n",
       "    .dataframe thead th {\n",
       "        text-align: right;\n",
       "    }\n",
       "</style>\n",
       "<table border=\"1\" class=\"dataframe\">\n",
       "  <thead>\n",
       "    <tr style=\"text-align: right;\">\n",
       "      <th></th>\n",
       "      <th>content</th>\n",
       "      <th>sentiment</th>\n",
       "    </tr>\n",
       "  </thead>\n",
       "  <tbody>\n",
       "    <tr>\n",
       "      <th>0</th>\n",
       "      <td>RT @evixy_: @havocharb 🙄 ALL RIGHT SHERLOCK. E...</td>\n",
       "      <td>negative</td>\n",
       "    </tr>\n",
       "    <tr>\n",
       "      <th>1</th>\n",
       "      <td>@Honeybeemtb @80sbuttplug @CNN @zbyronwolf So ...</td>\n",
       "      <td>neutral</td>\n",
       "    </tr>\n",
       "    <tr>\n",
       "      <th>2</th>\n",
       "      <td>#Beer. #Grub. #StadiumSeating.  Best place in ...</td>\n",
       "      <td>neutral</td>\n",
       "    </tr>\n",
       "    <tr>\n",
       "      <th>3</th>\n",
       "      <td>I want thissssssssss 😍😍😍😍😍 u have a perfect pl...</td>\n",
       "      <td>positive</td>\n",
       "    </tr>\n",
       "    <tr>\n",
       "      <th>4</th>\n",
       "      <td>youtu.be/D2IHY4eRdAs IF YOU DRINK DIET SODA OR...</td>\n",
       "      <td>neutral</td>\n",
       "    </tr>\n",
       "  </tbody>\n",
       "</table>\n",
       "</div>"
      ],
      "text/plain": [
       "                                             content sentiment\n",
       "0  RT @evixy_: @havocharb 🙄 ALL RIGHT SHERLOCK. E...  negative\n",
       "1  @Honeybeemtb @80sbuttplug @CNN @zbyronwolf So ...   neutral\n",
       "2  #Beer. #Grub. #StadiumSeating.  Best place in ...   neutral\n",
       "3  I want thissssssssss 😍😍😍😍😍 u have a perfect pl...  positive\n",
       "4  youtu.be/D2IHY4eRdAs IF YOU DRINK DIET SODA OR...   neutral"
      ]
     },
     "execution_count": 3,
     "metadata": {
      "tags": []
     },
     "output_type": "execute_result"
    }
   ],
   "source": [
    "# Loading training csv into pandas dataframe\n",
    "\n",
    "train_csv = path/'train.csv'\n",
    "train_pd = pd.read_csv(train_csv)\n",
    "train_pd.head()"
   ]
  },
  {
   "cell_type": "code",
   "execution_count": 4,
   "metadata": {
    "colab": {
     "base_uri": "https://localhost:8080/",
     "height": 206
    },
    "colab_type": "code",
    "id": "ABJH1cIEyg-U",
    "outputId": "f37577d4-903d-4b7c-b904-ff36017eeaa3"
   },
   "outputs": [
    {
     "data": {
      "text/html": [
       "<div>\n",
       "<style scoped>\n",
       "    .dataframe tbody tr th:only-of-type {\n",
       "        vertical-align: middle;\n",
       "    }\n",
       "\n",
       "    .dataframe tbody tr th {\n",
       "        vertical-align: top;\n",
       "    }\n",
       "\n",
       "    .dataframe thead th {\n",
       "        text-align: right;\n",
       "    }\n",
       "</style>\n",
       "<table border=\"1\" class=\"dataframe\">\n",
       "  <thead>\n",
       "    <tr style=\"text-align: right;\">\n",
       "      <th></th>\n",
       "      <th>content</th>\n",
       "      <th>sentiment</th>\n",
       "    </tr>\n",
       "  </thead>\n",
       "  <tbody>\n",
       "    <tr>\n",
       "      <th>0</th>\n",
       "      <td>@joselynalghul I mean you GOTTA go to Grand Ce...</td>\n",
       "      <td>positive</td>\n",
       "    </tr>\n",
       "    <tr>\n",
       "      <th>1</th>\n",
       "      <td>** HAPPY COOKING **#MAINCUISINE #COOKING #RECI...</td>\n",
       "      <td>neutral</td>\n",
       "    </tr>\n",
       "    <tr>\n",
       "      <th>2</th>\n",
       "      <td>RT @RiverRatBrewery: Today is the day! It's Su...</td>\n",
       "      <td>neutral</td>\n",
       "    </tr>\n",
       "    <tr>\n",
       "      <th>3</th>\n",
       "      <td>I ate chili cheese fries at 1AM and watched 13...</td>\n",
       "      <td>neutral</td>\n",
       "    </tr>\n",
       "    <tr>\n",
       "      <th>4</th>\n",
       "      <td>The Most Popular Super Bowl Recipes in Every S...</td>\n",
       "      <td>neutral</td>\n",
       "    </tr>\n",
       "  </tbody>\n",
       "</table>\n",
       "</div>"
      ],
      "text/plain": [
       "                                             content sentiment\n",
       "0  @joselynalghul I mean you GOTTA go to Grand Ce...  positive\n",
       "1  ** HAPPY COOKING **#MAINCUISINE #COOKING #RECI...   neutral\n",
       "2  RT @RiverRatBrewery: Today is the day! It's Su...   neutral\n",
       "3  I ate chili cheese fries at 1AM and watched 13...   neutral\n",
       "4  The Most Popular Super Bowl Recipes in Every S...   neutral"
      ]
     },
     "execution_count": 4,
     "metadata": {
      "tags": []
     },
     "output_type": "execute_result"
    }
   ],
   "source": [
    "# Loading evaluation csv into pandas dataframe\n",
    "\n",
    "eval_csv = path/'evaluate.csv'\n",
    "eval_pd = pd.read_csv(eval_csv)\n",
    "eval_pd.head()"
   ]
  },
  {
   "cell_type": "code",
   "execution_count": null,
   "metadata": {
    "colab": {},
    "colab_type": "code",
    "id": "CZi0Wd2Nyju0"
   },
   "outputs": [],
   "source": [
    "# regex patterns to remove usernames, links and email addresses from tweets\n",
    "# leaving hastags intact might help in sentiment analysis\n",
    "\n",
    "username_pat = re.compile(\"(?<=^|(?<=[^a-zA-Z0-9-_\\.]))((RT )?@[A-Za-z0-9-_]+):?\")\n",
    "url_pat = re.compile('\\S+\\.\\S+/\\S+')\n",
    "email_pat = re.compile('\\S+@\\S+\\.\\S+')\n",
    "space_pat = re.compile('[ ]+')"
   ]
  },
  {
   "cell_type": "code",
   "execution_count": null,
   "metadata": {
    "colab": {},
    "colab_type": "code",
    "id": "NzH_ZplqymCf"
   },
   "outputs": [],
   "source": [
    "# label normalizer\n",
    "# positive -> 1, negative -> -1, neutral -> 0\n",
    "def normalize_sentiment(txt):\n",
    "    if txt == \"positive\":\n",
    "        return 1\n",
    "    elif txt == \"neutral\":\n",
    "        return 0\n",
    "    elif txt == \"negative\":\n",
    "        return -1\n",
    "    return -5\n",
    "  \n",
    "# tweet normalizer\n",
    "def normalize(txt):\n",
    "    txt = re.sub(username_pat, '', txt)\n",
    "    txt = re.sub(email_pat, '', txt)\n",
    "    txt = re.sub(url_pat, '', txt)\n",
    "    txt = re.sub(space_pat, ' ', txt)\n",
    "    return txt.strip()"
   ]
  },
  {
   "cell_type": "code",
   "execution_count": null,
   "metadata": {
    "colab": {},
    "colab_type": "code",
    "id": "izHKzjXmytoz"
   },
   "outputs": [],
   "source": [
    "# apply normalization on each column using different normalization functions\n",
    "\n",
    "train_pd.content = train_pd.content.apply(normalize)\n",
    "train_pd.sentiment = train_pd.sentiment.apply(normalize_sentiment)"
   ]
  },
  {
   "cell_type": "code",
   "execution_count": null,
   "metadata": {
    "colab": {},
    "colab_type": "code",
    "id": "6bAr9w1Qyxku"
   },
   "outputs": [],
   "source": [
    "# apply normalization on each column using different normalization functions\n",
    "\n",
    "eval_pd.content = eval_pd.content.apply(normalize)\n",
    "eval_pd.sentiment = eval_pd.sentiment.apply(normalize_sentiment)"
   ]
  },
  {
   "cell_type": "code",
   "execution_count": null,
   "metadata": {
    "colab": {},
    "colab_type": "code",
    "id": "F_A09t2Eyzdu"
   },
   "outputs": [],
   "source": [
    "# suffling data and splitting data in training/validation parts\n",
    "np.random.seed(42)\n",
    "rnd_idx = np.random.permutation(len(train_pd))\n",
    "idx_70 = round(len(rnd_idx)*(70/100))\n",
    "\n",
    "trn_idx = rnd_idx[:idx_70]\n",
    "val_idx = rnd_idx[idx_70:]"
   ]
  },
  {
   "cell_type": "code",
   "execution_count": null,
   "metadata": {
    "colab": {},
    "colab_type": "code",
    "id": "wnAClOsOy358"
   },
   "outputs": [],
   "source": [
    "trn_texts = train_pd.loc[trn_idx, 'content'].values\n",
    "trn_labels = train_pd.loc[trn_idx, 'sentiment'].values\n",
    "val_texts = train_pd.loc[val_idx, 'content'].values\n",
    "val_labels = train_pd.loc[val_idx, 'sentiment'].values"
   ]
  },
  {
   "cell_type": "code",
   "execution_count": null,
   "metadata": {
    "colab": {},
    "colab_type": "code",
    "id": "9BpB1VyUy8Qp"
   },
   "outputs": [],
   "source": [
    "# creating new dataframes for training, validation and testing(evaluation) data\n",
    "col_names = ['labels','text']\n",
    "df_trn = pd.DataFrame({'text':trn_texts, 'labels':trn_labels}, columns=col_names)\n",
    "df_val = pd.DataFrame({'text':val_texts, 'labels':val_labels}, columns=col_names)\n",
    "df_test = pd.DataFrame({'text':eval_pd.content.values, 'labels':eval_pd.sentiment.values}, columns=col_names)"
   ]
  },
  {
   "cell_type": "code",
   "execution_count": 19,
   "metadata": {
    "colab": {
     "base_uri": "https://localhost:8080/",
     "height": 90
    },
    "colab_type": "code",
    "id": "eTAsKUZ0y9sy",
    "outputId": "8757baf4-63de-4801-d2f1-091b9e033db6"
   },
   "outputs": [
    {
     "data": {
      "text/plain": [
       " 0    49787\n",
       " 1    35717\n",
       "-1    26496\n",
       "Name: labels, dtype: int64"
      ]
     },
     "execution_count": 19,
     "metadata": {
      "tags": []
     },
     "output_type": "execute_result"
    }
   ],
   "source": [
    "# training data is not very skew which is good for generalization\n",
    "df_trn.labels.value_counts()"
   ]
  },
  {
   "cell_type": "code",
   "execution_count": 20,
   "metadata": {
    "colab": {
     "base_uri": "https://localhost:8080/",
     "height": 90
    },
    "colab_type": "code",
    "id": "HNmOrfK9ze0N",
    "outputId": "e554681d-6155-4386-fd58-dfc30a0be683"
   },
   "outputs": [
    {
     "data": {
      "text/plain": [
       " 0    21213\n",
       " 1    15283\n",
       "-1    11504\n",
       "Name: labels, dtype: int64"
      ]
     },
     "execution_count": 20,
     "metadata": {
      "tags": []
     },
     "output_type": "execute_result"
    }
   ],
   "source": [
    "# validation data is not very skew which is good for generalization\n",
    "\n",
    "df_val.labels.value_counts()"
   ]
  },
  {
   "cell_type": "code",
   "execution_count": 144,
   "metadata": {
    "colab": {
     "base_uri": "https://localhost:8080/",
     "height": 90
    },
    "colab_type": "code",
    "id": "DVvvu4aZfuge",
    "outputId": "ff025069-1ed2-4254-d152-95a8ac5538d8"
   },
   "outputs": [
    {
     "data": {
      "text/plain": [
       " 0    55766\n",
       " 1    10477\n",
       "-1     3351\n",
       "Name: labels, dtype: int64"
      ]
     },
     "execution_count": 144,
     "metadata": {
      "tags": []
     },
     "output_type": "execute_result"
    }
   ],
   "source": [
    "df_test.labels.value_counts()"
   ]
  },
  {
   "cell_type": "code",
   "execution_count": null,
   "metadata": {
    "colab": {},
    "colab_type": "code",
    "id": "MruxpJFrzguo"
   },
   "outputs": [],
   "source": [
    "# create fast.ai data bunch using training, validation and testing data frames\n",
    "data_lm = TextLMDataBunch.from_df('.', train_df=df_trn, valid_df=df_val, test_df=df_test)"
   ]
  },
  {
   "cell_type": "code",
   "execution_count": null,
   "metadata": {
    "colab": {},
    "colab_type": "code",
    "id": "HUAf9p8Qzj5C"
   },
   "outputs": [],
   "source": [
    "data_lm.save('tmp_lm')"
   ]
  },
  {
   "cell_type": "code",
   "execution_count": null,
   "metadata": {
    "colab": {},
    "colab_type": "code",
    "id": "rZhJemiWzwU6"
   },
   "outputs": [],
   "source": [
    "# create leaner object using pretrained LM from wikipedia\n",
    "learner = language_model_learner(data_lm, AWD_LSTM, drop_mult=0.5)"
   ]
  },
  {
   "cell_type": "code",
   "execution_count": null,
   "metadata": {
    "colab": {},
    "colab_type": "code",
    "id": "4kdxYarFzyV7"
   },
   "outputs": [],
   "source": [
    "# function to find the best learning rate to fine tune the model futher\n",
    "learner.lr_find()"
   ]
  },
  {
   "cell_type": "code",
   "execution_count": 149,
   "metadata": {
    "colab": {
     "base_uri": "https://localhost:8080/",
     "height": 283
    },
    "colab_type": "code",
    "id": "FkN7WUGY0KyM",
    "outputId": "202c8ad7-28d0-4bad-84c0-972f3afb01a1"
   },
   "outputs": [
    {
     "data": {
      "image/png": "[encoded data removed]",
      "text/plain": [
       "<Figure size 432x288 with 1 Axes>"
      ]
     },
     "metadata": {
      "tags": []
     },
     "output_type": "display_data"
    }
   ],
   "source": [
    "learner.recorder.plot()"
   ]
  },
  {
   "cell_type": "code",
   "execution_count": 150,
   "metadata": {
    "colab": {
     "base_uri": "https://localhost:8080/",
     "height": 81
    },
    "colab_type": "code",
    "id": "1VGCv7ia0NyP",
    "outputId": "cbdc4351-3a96-419e-823d-18a840848a1c"
   },
   "outputs": [
    {
     "data": {
      "text/html": [
       "<table border=\"1\" class=\"dataframe\">\n",
       "  <thead>\n",
       "    <tr style=\"text-align: left;\">\n",
       "      <th>epoch</th>\n",
       "      <th>train_loss</th>\n",
       "      <th>valid_loss</th>\n",
       "      <th>accuracy</th>\n",
       "      <th>time</th>\n",
       "    </tr>\n",
       "  </thead>\n",
       "  <tbody>\n",
       "    <tr>\n",
       "      <td>0</td>\n",
       "      <td>4.386415</td>\n",
       "      <td>4.094690</td>\n",
       "      <td>0.303533</td>\n",
       "      <td>04:09</td>\n",
       "    </tr>\n",
       "  </tbody>\n",
       "</table>"
      ],
      "text/plain": [
       "<IPython.core.display.HTML object>"
      ]
     },
     "metadata": {
      "tags": []
     },
     "output_type": "display_data"
    }
   ],
   "source": [
    "# training the model but only the last layer for classification and keep rest of the pretrained parameters frozen\n",
    "# this will produce a very generic and lightly fine tuned LM whcih can understand our vocabulary\n",
    "learner.fit_one_cycle(1, 1e-2)"
   ]
  },
  {
   "cell_type": "code",
   "execution_count": 30,
   "metadata": {
    "colab": {
     "base_uri": "https://localhost:8080/",
     "height": 81
    },
    "colab_type": "code",
    "id": "6WaU7urJ0bUz",
    "outputId": "074f62bf-8182-4a81-f313-22a17ff3261b"
   },
   "outputs": [
    {
     "data": {
      "text/html": [
       "<table border=\"1\" class=\"dataframe\">\n",
       "  <thead>\n",
       "    <tr style=\"text-align: left;\">\n",
       "      <th>epoch</th>\n",
       "      <th>train_loss</th>\n",
       "      <th>valid_loss</th>\n",
       "      <th>accuracy</th>\n",
       "      <th>time</th>\n",
       "    </tr>\n",
       "  </thead>\n",
       "  <tbody>\n",
       "    <tr>\n",
       "      <td>0</td>\n",
       "      <td>3.921386</td>\n",
       "      <td>3.789510</td>\n",
       "      <td>0.346393</td>\n",
       "      <td>04:48</td>\n",
       "    </tr>\n",
       "  </tbody>\n",
       "</table>"
      ],
      "text/plain": [
       "<IPython.core.display.HTML object>"
      ]
     },
     "metadata": {
      "tags": []
     },
     "output_type": "display_data"
    }
   ],
   "source": [
    "# now to tune the parameters of the entire model with twitter data to make it more fine tuned to our task and dataset\n",
    "learner.unfreeze()\n",
    "learner.fit_one_cycle(1, 1e-3)"
   ]
  },
  {
   "cell_type": "code",
   "execution_count": 242,
   "metadata": {
    "colab": {
     "base_uri": "https://localhost:8080/",
     "height": 35
    },
    "colab_type": "code",
    "id": "bxvJsEqa1tPu",
    "outputId": "1f61029d-56ef-4863-e0d6-61e604df1ea9"
   },
   "outputs": [
    {
     "data": {
      "text/plain": [
       "'#bad #shame # apple - educational cookbook # Delicious #'"
      ]
     },
     "execution_count": 242,
     "metadata": {
      "tags": []
     },
     "output_type": "execute_result"
    }
   ],
   "source": [
    "# check how the language model is looking\n",
    "learner.predict(\"#bad #shame\", n_words=10)"
   ]
  },
  {
   "cell_type": "code",
   "execution_count": null,
   "metadata": {
    "colab": {},
    "colab_type": "code",
    "id": "ujZ_czW810tn"
   },
   "outputs": [],
   "source": [
    "# saving the encode model only for later use\n",
    "learner.save_encoder(\"fine_enc\")"
   ]
  },
  {
   "cell_type": "code",
   "execution_count": null,
   "metadata": {
    "colab": {},
    "colab_type": "code",
    "id": "7Kg0ZVC_16rq"
   },
   "outputs": [],
   "source": [
    "# Classifier data bunch with batching\n",
    "# create fast.ai classification data bunch using training, validation and testing data frames\n",
    "data_clas = TextClasDataBunch.from_df('./', train_df=df_trn, valid_df=df_val, test_df=df_test, vocab=data_lm.train_ds.vocab, bs=32)"
   ]
  },
  {
   "cell_type": "code",
   "execution_count": null,
   "metadata": {
    "colab": {},
    "colab_type": "code",
    "id": "9LuoJAnUYKtW"
   },
   "outputs": [],
   "source": [
    "data_clas.save(\"tmp_cl\")"
   ]
  },
  {
   "cell_type": "code",
   "execution_count": null,
   "metadata": {
    "colab": {},
    "colab_type": "code",
    "id": "Z6l-0oF52Ho7"
   },
   "outputs": [],
   "source": [
    "# create classifier from our fine tuned Language Model\n",
    "classifier = text_classifier_learner(data_clas, AWD_LSTM, drop_mult=0.5)\n",
    "classifier.load_encoder('fine_enc')"
   ]
  },
  {
   "cell_type": "code",
   "execution_count": 160,
   "metadata": {
    "colab": {
     "base_uri": "https://localhost:8080/",
     "height": 35
    },
    "colab_type": "code",
    "id": "WGcuaWnP3WP7",
    "outputId": "f820ac7c-a4ea-4e2f-a512-c575f9ab62f5"
   },
   "outputs": [
    {
     "data": {
      "text/html": [],
      "text/plain": [
       "<IPython.core.display.HTML object>"
      ]
     },
     "metadata": {
      "tags": []
     },
     "output_type": "display_data"
    },
    {
     "name": "stdout",
     "output_type": "stream",
     "text": [
      "LR Finder is complete, type {learner_name}.recorder.plot() to see the graph.\n"
     ]
    }
   ],
   "source": [
    "# find the best learning rate \n",
    "classifier.lr_find()"
   ]
  },
  {
   "cell_type": "code",
   "execution_count": 161,
   "metadata": {
    "colab": {
     "base_uri": "https://localhost:8080/",
     "height": 283
    },
    "colab_type": "code",
    "id": "f8Ad7M5U3d3p",
    "outputId": "81a1fe0e-e200-4254-eaac-0328401ed767"
   },
   "outputs": [
    {
     "data": {
      "image/png": "[encoded data removed]",
      "text/plain": [
       "<Figure size 432x288 with 1 Axes>"
      ]
     },
     "metadata": {
      "tags": []
     },
     "output_type": "display_data"
    }
   ],
   "source": [
    "classifier.recorder.plot()"
   ]
  },
  {
   "cell_type": "code",
   "execution_count": 162,
   "metadata": {
    "colab": {
     "base_uri": "https://localhost:8080/",
     "height": 81
    },
    "colab_type": "code",
    "id": "T5as7Xr82Le1",
    "outputId": "6c6c2170-d386-455c-9cf5-d5682f5e94a8"
   },
   "outputs": [
    {
     "data": {
      "text/html": [
       "<table border=\"1\" class=\"dataframe\">\n",
       "  <thead>\n",
       "    <tr style=\"text-align: left;\">\n",
       "      <th>epoch</th>\n",
       "      <th>train_loss</th>\n",
       "      <th>valid_loss</th>\n",
       "      <th>accuracy</th>\n",
       "      <th>time</th>\n",
       "    </tr>\n",
       "  </thead>\n",
       "  <tbody>\n",
       "    <tr>\n",
       "      <td>0</td>\n",
       "      <td>0.879365</td>\n",
       "      <td>0.807349</td>\n",
       "      <td>0.640750</td>\n",
       "      <td>02:44</td>\n",
       "    </tr>\n",
       "  </tbody>\n",
       "</table>"
      ],
      "text/plain": [
       "<IPython.core.display.HTML object>"
      ]
     },
     "metadata": {
      "tags": []
     },
     "output_type": "display_data"
    }
   ],
   "source": [
    "# Fine tune the last layer of LM for classification task on out data and with our labels\n",
    "# keep rest of the model Frozen\n",
    "classifier.fit_one_cycle(1, 2e-2, moms=(0.8, 0.7))"
   ]
  },
  {
   "cell_type": "code",
   "execution_count": 163,
   "metadata": {
    "colab": {
     "base_uri": "https://localhost:8080/",
     "height": 81
    },
    "colab_type": "code",
    "id": "DtZItXNv4sAz",
    "outputId": "7fc5cff4-8c13-42a7-d333-0651df17fce9"
   },
   "outputs": [
    {
     "data": {
      "text/html": [
       "<table border=\"1\" class=\"dataframe\">\n",
       "  <thead>\n",
       "    <tr style=\"text-align: left;\">\n",
       "      <th>epoch</th>\n",
       "      <th>train_loss</th>\n",
       "      <th>valid_loss</th>\n",
       "      <th>accuracy</th>\n",
       "      <th>time</th>\n",
       "    </tr>\n",
       "  </thead>\n",
       "  <tbody>\n",
       "    <tr>\n",
       "      <td>0</td>\n",
       "      <td>0.585506</td>\n",
       "      <td>0.451180</td>\n",
       "      <td>0.829813</td>\n",
       "      <td>03:01</td>\n",
       "    </tr>\n",
       "  </tbody>\n",
       "</table>"
      ],
      "text/plain": [
       "<IPython.core.display.HTML object>"
      ]
     },
     "metadata": {
      "tags": []
     },
     "output_type": "display_data"
    }
   ],
   "source": [
    "# to improve accuracy we can unfreeze just the last 2 layers to be trained and keep res of the model frozen\n",
    "classifier.freeze_to(-2)\n",
    "classifier.fit_one_cycle(1, slice(5e-3/2., 5e-3), moms=(0.8, 0.7))"
   ]
  },
  {
   "cell_type": "code",
   "execution_count": 206,
   "metadata": {
    "colab": {
     "base_uri": "https://localhost:8080/",
     "height": 81
    },
    "colab_type": "code",
    "id": "PWAXv7fp-bMT",
    "outputId": "df58c8aa-8a21-4479-b496-b82aed1a2d30"
   },
   "outputs": [
    {
     "data": {
      "text/html": [
       "<table border=\"1\" class=\"dataframe\">\n",
       "  <thead>\n",
       "    <tr style=\"text-align: left;\">\n",
       "      <th>epoch</th>\n",
       "      <th>train_loss</th>\n",
       "      <th>valid_loss</th>\n",
       "      <th>accuracy</th>\n",
       "      <th>time</th>\n",
       "    </tr>\n",
       "  </thead>\n",
       "  <tbody>\n",
       "    <tr>\n",
       "      <td>0</td>\n",
       "      <td>0.413215</td>\n",
       "      <td>0.320368</td>\n",
       "      <td>0.891958</td>\n",
       "      <td>05:43</td>\n",
       "    </tr>\n",
       "  </tbody>\n",
       "</table>"
      ],
      "text/plain": [
       "<IPython.core.display.HTML object>"
      ]
     },
     "metadata": {
      "tags": []
     },
     "output_type": "display_data"
    }
   ],
   "source": [
    "# now we cn unfreeze the entire model and train\n",
    "classifier.unfreeze()\n",
    "classifier.fit_one_cycle(1, slice(1e-3/100, 1e-3), moms=(0.8, 0.7))"
   ]
  },
  {
   "cell_type": "code",
   "execution_count": 208,
   "metadata": {
    "colab": {
     "base_uri": "https://localhost:8080/",
     "height": 283
    },
    "colab_type": "code",
    "id": "tvtoR0s031NB",
    "outputId": "c88becea-71b8-4fe1-c38c-1076df6114f3"
   },
   "outputs": [
    {
     "data": {
      "image/png": "[encoded data removed]",
      "text/plain": [
       "<Figure size 432x288 with 1 Axes>"
      ]
     },
     "metadata": {
      "tags": []
     },
     "output_type": "display_data"
    }
   ],
   "source": [
    "classifier.recorder.plot_losses()"
   ]
  },
  {
   "cell_type": "code",
   "execution_count": null,
   "metadata": {
    "colab": {},
    "colab_type": "code",
    "id": "L7O7M3pjIXPC"
   },
   "outputs": [],
   "source": [
    "learner.save(\"lm.bin\")\n",
    "classifier.save(\"cl.bin\")"
   ]
  },
  {
   "cell_type": "code",
   "execution_count": null,
   "metadata": {
    "colab": {},
    "colab_type": "code",
    "id": "C42nED8Z4l8b"
   },
   "outputs": [],
   "source": [
    "preds, y, losses = classifier.get_preds(with_loss=True)"
   ]
  },
  {
   "cell_type": "code",
   "execution_count": 237,
   "metadata": {
    "colab": {
     "base_uri": "https://localhost:8080/",
     "height": 311
    },
    "colab_type": "code",
    "id": "ddUTXGwov2KO",
    "outputId": "e481045a-594c-4cc9-e404-f6fba8f70b39"
   },
   "outputs": [
    {
     "data": {
      "image/png": "[encoded data removed]",
      "text/plain": [
       "<Figure size 432x288 with 1 Axes>"
      ]
     },
     "metadata": {
      "tags": []
     },
     "output_type": "display_data"
    }
   ],
   "source": [
    "# validation set confusion matrix\n",
    "val_interp = classifier.interpret()\n",
    "val_interp.plot_confusion_matrix()"
   ]
  },
  {
   "cell_type": "code",
   "execution_count": null,
   "metadata": {
    "colab": {},
    "colab_type": "code",
    "id": "HaM9mX3P5APL"
   },
   "outputs": [],
   "source": [
    "train_interp = classifier.interpret(DatasetType.Train)"
   ]
  },
  {
   "cell_type": "code",
   "execution_count": 245,
   "metadata": {
    "colab": {
     "base_uri": "https://localhost:8080/",
     "height": 311
    },
    "colab_type": "code",
    "id": "n_LPJMMNwa0C",
    "outputId": "68b22bb0-0cd8-4b77-d506-3ecb7499bcb2"
   },
   "outputs": [
    {
     "data": {
      "image/png": "[encoded data removed]",
      "text/plain": [
       "<Figure size 432x288 with 1 Axes>"
      ]
     },
     "metadata": {
      "tags": []
     },
     "output_type": "display_data"
    }
   ],
   "source": [
    "train_interp.plot_confusion_matrix()"
   ]
  },
  {
   "cell_type": "code",
   "execution_count": null,
   "metadata": {
    "colab": {},
    "colab_type": "code",
    "id": "8RnhxT2bwz96"
   },
   "outputs": [],
   "source": [
    "test_interp = classifier.interpret(DatasetType.Test)"
   ]
  },
  {
   "cell_type": "code",
   "execution_count": null,
   "metadata": {
    "colab": {},
    "colab_type": "code",
    "id": "NhDh52s465s_"
   },
   "outputs": [],
   "source": [
    "\n",
    "test_interp.test_interp.plot_confusion_matrix()"
   ]
  },
  {
   "cell_type": "markdown",
   "metadata": {
    "colab_type": "text",
    "id": "1FHGWCSy3y3U"
   },
   "source": [
    "## Conclusion\n",
    "- Comparing the model performance using accuracy metric it looks like its performaing very well with very hundreds of training samples instead of millions of samples required to train DNN models for the task. Language Models like ULMFiT allows a flexible tranfer learning mechanish as a cost of higher computation at runtime since language model needs to run to proces sentenc vector representation of the input text.\n",
    "- Although accuracy metrics is not the best but we can be confident that the model is performaing good since its only getting confuesd a lot by positive and neutral tweets which is understandable since its hard for model to get sarcasm, analogy and context of the twitter post just from this data and training procedure.\n",
    "- Even though the model accuracy is 90% we can still improve the model by few iteration of fine tuning until the train loss is higher than validation loss which gives indication that overfitting is not happening. But also hyper-parameter tuning is also required to get few more points in the perfermance.\n",
    "- To make this model production ready we need to first figure out if its getting used realtime as the query comes or near realtime where batching can happen. The model performances increases a lot for inference when its done in batches since matrix multiplication is more effective and can be distributed. Also GPU is the intended device for training ang inference for production. Inference latency is poor for single query  predictions even on GPU. We can add multiprocessing but python is not bes suited for it.\n",
    "- this notebook needs to converted to python script which should be easy but methods needs to be added for training or loading already trained models.\n",
    "- the model might be exportable to common format like onnx so it can be served using a hig perfermance model server.\n",
    "\n",
    "# NOTE\n",
    "At the end due to some issue in fastai library i was not able to produce the confusion matrix for the evaluation data using batch processing. I was able to produce the correct predictions using single query loop but forgot to save it and it takes hours to generate again without batching.\n",
    "\n",
    "\n"
   ]
  },
  {
   "cell_type": "code",
   "execution_count": null,
   "metadata": {
    "colab": {},
    "colab_type": "code",
    "id": "oHSfN5dp6Qed"
   },
   "outputs": [],
   "source": []
  }
 ],
 "metadata": {
  "accelerator": "GPU",
  "colab": {
   "collapsed_sections": [],
   "name": "sentitment_analysis.ipynb",
   "provenance": [],
   "version": "0.3.2"
  },
  "kernelspec": {
   "display_name": "Python 3",
   "language": "python",
   "name": "python3"
  },
  "language_info": {
   "codemirror_mode": {
    "name": "ipython",
    "version": 3
   },
   "file_extension": ".py",
   "mimetype": "text/x-python",
   "name": "python",
   "nbconvert_exporter": "python",
   "pygments_lexer": "ipython3",
   "version": "3.6.5"
  }
 },
 "nbformat": 4,
 "nbformat_minor": 2
}
